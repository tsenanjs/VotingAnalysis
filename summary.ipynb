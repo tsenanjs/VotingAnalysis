{
 "cells": [
  {
   "cell_type": "markdown",
   "metadata": {},
   "source": [
    "# Angie Chen Button Voting Analysis"
   ]
  },
  {
   "cell_type": "code",
   "execution_count": 117,
   "metadata": {},
   "outputs": [],
   "source": [
    "import os \n",
    "import json\n",
    "import pandas as pd\n",
    "import pandasql as ps\n",
    "from matplotlib import pyplot as plt"
   ]
  },
  {
   "cell_type": "markdown",
   "metadata": {},
   "source": [
    "### Read Data"
   ]
  },
  {
   "cell_type": "code",
   "execution_count": 124,
   "metadata": {},
   "outputs": [],
   "source": [
    "# Read CSV files to dataframes\n",
    "dfs = {\"bills\":[],\n",
    "        \"documents\":[],\n",
    "        \"history\":[],\n",
    "        \"people\":[],\n",
    "        \"rollcalls\":[],\n",
    "        \"sponsors\":[],\n",
    "        \"votes\":[]}\n",
    "root = os.path.join(os.getcwd(),\"voting_history\")\n",
    "folders = os.listdir(root)\n",
    "for folder in folders:\n",
    "    if os.path.isdir(os.path.join(root, folder)):\n",
    "        path = os.path.join(root, folder, \"TX\",folder.split(\"_\", 1)[1].split(\"_CSV_\", 1)[0],'csv')\n",
    "        for df_name in dfs:\n",
    "            df = pd.read_csv(os.path.join(path,df_name+'.csv'))\n",
    "            dfs[df_name].append(df)\n",
    "for df_name in dfs:\n",
    "    dfs[df_name] = pd.concat(dfs[df_name])\n",
    "    print(df_name, len(dfs[df_name]))"
   ]
  },
  {
   "cell_type": "code",
   "execution_count": 49,
   "metadata": {},
   "outputs": [],
   "source": [
    "# Clean \n",
    "dfs[\"people\"] = dfs[\"people\"].drop_duplicates(subset=['people_id']) # Keep one arbitrary session as a definition for each person"
   ]
  },
  {
   "cell_type": "code",
   "execution_count": 72,
   "metadata": {},
   "outputs": [],
   "source": [
    "# Merge votes\n",
    "voting_record_df = dfs[\"votes\"].merge(dfs[\"people\"], how='left', left_on='people_id', right_on='people_id')\n",
    "voting_record_df = voting_record_df[voting_record_df.role == \"Rep\"]"
   ]
  },
  {
   "cell_type": "code",
   "execution_count": 73,
   "metadata": {},
   "outputs": [
    {
     "data": {
      "text/html": [
       "<div>\n",
       "<style scoped>\n",
       "    .dataframe tbody tr th:only-of-type {\n",
       "        vertical-align: middle;\n",
       "    }\n",
       "\n",
       "    .dataframe tbody tr th {\n",
       "        vertical-align: top;\n",
       "    }\n",
       "\n",
       "    .dataframe thead th {\n",
       "        text-align: right;\n",
       "    }\n",
       "</style>\n",
       "<table border=\"1\" class=\"dataframe\">\n",
       "  <thead>\n",
       "    <tr style=\"text-align: right;\">\n",
       "      <th></th>\n",
       "      <th>roll_call_id</th>\n",
       "      <th>people_id</th>\n",
       "      <th>vote</th>\n",
       "      <th>vote_desc</th>\n",
       "      <th>name</th>\n",
       "      <th>first_name</th>\n",
       "      <th>middle_name</th>\n",
       "      <th>last_name</th>\n",
       "      <th>suffix</th>\n",
       "      <th>nickname</th>\n",
       "      <th>...</th>\n",
       "      <th>party</th>\n",
       "      <th>role_id</th>\n",
       "      <th>role</th>\n",
       "      <th>district</th>\n",
       "      <th>followthemoney_eid</th>\n",
       "      <th>votesmart_id</th>\n",
       "      <th>opensecrets_id</th>\n",
       "      <th>ballotpedia</th>\n",
       "      <th>knowwho_pid</th>\n",
       "      <th>committee_id</th>\n",
       "    </tr>\n",
       "  </thead>\n",
       "  <tbody>\n",
       "    <tr>\n",
       "      <th>0</th>\n",
       "      <td>290998</td>\n",
       "      <td>5848</td>\n",
       "      <td>2</td>\n",
       "      <td>Nay</td>\n",
       "      <td>Alma Allen</td>\n",
       "      <td>Alma</td>\n",
       "      <td>A.</td>\n",
       "      <td>Allen</td>\n",
       "      <td>NaN</td>\n",
       "      <td>NaN</td>\n",
       "      <td>...</td>\n",
       "      <td>D</td>\n",
       "      <td>1</td>\n",
       "      <td>Rep</td>\n",
       "      <td>HD-131</td>\n",
       "      <td>6396545</td>\n",
       "      <td>25503</td>\n",
       "      <td>NaN</td>\n",
       "      <td>Alma_Allen</td>\n",
       "      <td>228544</td>\n",
       "      <td>0</td>\n",
       "    </tr>\n",
       "    <tr>\n",
       "      <th>1</th>\n",
       "      <td>290998</td>\n",
       "      <td>5849</td>\n",
       "      <td>2</td>\n",
       "      <td>Nay</td>\n",
       "      <td>Roberto Alonzo</td>\n",
       "      <td>Roberto</td>\n",
       "      <td>R.</td>\n",
       "      <td>Alonzo</td>\n",
       "      <td>NaN</td>\n",
       "      <td>NaN</td>\n",
       "      <td>...</td>\n",
       "      <td>D</td>\n",
       "      <td>1</td>\n",
       "      <td>Rep</td>\n",
       "      <td>HD-104</td>\n",
       "      <td>6396552</td>\n",
       "      <td>5468</td>\n",
       "      <td>NaN</td>\n",
       "      <td>Roberto_Alonzo</td>\n",
       "      <td>212608</td>\n",
       "      <td>0</td>\n",
       "    </tr>\n",
       "    <tr>\n",
       "      <th>3</th>\n",
       "      <td>290998</td>\n",
       "      <td>5851</td>\n",
       "      <td>4</td>\n",
       "      <td>Absent</td>\n",
       "      <td>Rafael Anchia</td>\n",
       "      <td>Rafael</td>\n",
       "      <td>NaN</td>\n",
       "      <td>Anchia</td>\n",
       "      <td>NaN</td>\n",
       "      <td>NaN</td>\n",
       "      <td>...</td>\n",
       "      <td>D</td>\n",
       "      <td>1</td>\n",
       "      <td>Rep</td>\n",
       "      <td>HD-103</td>\n",
       "      <td>6453425</td>\n",
       "      <td>49874</td>\n",
       "      <td>NaN</td>\n",
       "      <td>Rafael_Anchia</td>\n",
       "      <td>228542</td>\n",
       "      <td>0</td>\n",
       "    </tr>\n",
       "    <tr>\n",
       "      <th>4</th>\n",
       "      <td>290998</td>\n",
       "      <td>5852</td>\n",
       "      <td>1</td>\n",
       "      <td>Yea</td>\n",
       "      <td>Charles Anderson</td>\n",
       "      <td>Charles</td>\n",
       "      <td>NaN</td>\n",
       "      <td>Anderson</td>\n",
       "      <td>NaN</td>\n",
       "      <td>Doc</td>\n",
       "      <td>...</td>\n",
       "      <td>R</td>\n",
       "      <td>1</td>\n",
       "      <td>Rep</td>\n",
       "      <td>HD-056</td>\n",
       "      <td>6598949</td>\n",
       "      <td>49739</td>\n",
       "      <td>NaN</td>\n",
       "      <td>Charles_Anderson_(Texas)</td>\n",
       "      <td>226950</td>\n",
       "      <td>0</td>\n",
       "    </tr>\n",
       "    <tr>\n",
       "      <th>5</th>\n",
       "      <td>290998</td>\n",
       "      <td>5853</td>\n",
       "      <td>1</td>\n",
       "      <td>Yea</td>\n",
       "      <td>Jimmie Aycock</td>\n",
       "      <td>Jimmie</td>\n",
       "      <td>Don</td>\n",
       "      <td>Aycock</td>\n",
       "      <td>NaN</td>\n",
       "      <td>NaN</td>\n",
       "      <td>...</td>\n",
       "      <td>R</td>\n",
       "      <td>1</td>\n",
       "      <td>Rep</td>\n",
       "      <td>HD-054</td>\n",
       "      <td>6667481</td>\n",
       "      <td>57995</td>\n",
       "      <td>NaN</td>\n",
       "      <td>Jimmie_Don_Aycock</td>\n",
       "      <td>248632</td>\n",
       "      <td>0</td>\n",
       "    </tr>\n",
       "  </tbody>\n",
       "</table>\n",
       "<p>5 rows × 21 columns</p>\n",
       "</div>"
      ],
      "text/plain": [
       "  roll_call_id people_id vote vote_desc              name first_name  \\\n",
       "0       290998      5848    2       Nay        Alma Allen       Alma   \n",
       "1       290998      5849    2       Nay    Roberto Alonzo    Roberto   \n",
       "3       290998      5851    4    Absent     Rafael Anchia     Rafael   \n",
       "4       290998      5852    1       Yea  Charles Anderson    Charles   \n",
       "5       290998      5853    1       Yea     Jimmie Aycock     Jimmie   \n",
       "\n",
       "  middle_name last_name suffix nickname  ...  party role_id  role district  \\\n",
       "0          A.     Allen    NaN      NaN  ...      D       1   Rep   HD-131   \n",
       "1          R.    Alonzo    NaN      NaN  ...      D       1   Rep   HD-104   \n",
       "3         NaN    Anchia    NaN      NaN  ...      D       1   Rep   HD-103   \n",
       "4         NaN  Anderson    NaN      Doc  ...      R       1   Rep   HD-056   \n",
       "5         Don    Aycock    NaN      NaN  ...      R       1   Rep   HD-054   \n",
       "\n",
       "  followthemoney_eid  votesmart_id  opensecrets_id               ballotpedia  \\\n",
       "0            6396545         25503             NaN                Alma_Allen   \n",
       "1            6396552          5468             NaN            Roberto_Alonzo   \n",
       "3            6453425         49874             NaN             Rafael_Anchia   \n",
       "4            6598949         49739             NaN  Charles_Anderson_(Texas)   \n",
       "5            6667481         57995             NaN         Jimmie_Don_Aycock   \n",
       "\n",
       "  knowwho_pid  committee_id  \n",
       "0      228544             0  \n",
       "1      212608             0  \n",
       "3      228542             0  \n",
       "4      226950             0  \n",
       "5      248632             0  \n",
       "\n",
       "[5 rows x 21 columns]"
      ]
     },
     "execution_count": 73,
     "metadata": {},
     "output_type": "execute_result"
    }
   ],
   "source": [
    "angie_button_id = 5862\n",
    "voting_record_df.head()"
   ]
  },
  {
   "cell_type": "markdown",
   "metadata": {},
   "source": [
    "# Vote Absences\n",
    "Angie votes consistently, and more frequently than most"
   ]
  },
  {
   "cell_type": "code",
   "execution_count": 103,
   "metadata": {},
   "outputs": [
    {
     "name": "stdout",
     "output_type": "stream",
     "text": [
      "Total: 270\n"
     ]
    },
    {
     "data": {
      "text/plain": [
       "perc_absent     0.011307\n",
       "rank           49.000000\n",
       "Name: 5862, dtype: float64"
      ]
     },
     "execution_count": 103,
     "metadata": {},
     "output_type": "execute_result"
    }
   ],
   "source": [
    "# Group votes by politician\n",
    "grouped = voting_record_df.groupby(\"people_id\")\n",
    "def percent_abs(group):\n",
    "    n = sum(group['vote_desc'] == \"Absent\")\n",
    "    d = len(group)\n",
    "    return n/d\n",
    "abs_votes = grouped.apply(percent_abs)\n",
    "\n",
    "# Compute rank\n",
    "abs_votes = abs_votes.to_frame().rename(columns={0:\"perc_absent\"}).sort_values(by='perc_absent', ascending=True)\n",
    "abs_votes['rank'] = abs_votes['perc_absent'].rank()\n",
    "\n",
    "# Show result\n",
    "print('Total:',len(abs_votes))\n",
    "abs_votes.loc[angie_button_id]"
   ]
  },
  {
   "cell_type": "markdown",
   "metadata": {},
   "source": [
    "### Voting Correlation \n",
    "Angie has over 16,000 roll call votes. She often votes with the Republican party. She has about 1,000 votes against measures that had sizable Republican support (>75%). "
   ]
  },
  {
   "cell_type": "code",
   "execution_count": 135,
   "metadata": {},
   "outputs": [],
   "source": [
    "grouped = voting_record_df.groupby(\"roll_call_id\")\n",
    "\n",
    "def percent_rep_support(group):\n",
    "    d = sum(group['vote_desc'] == \"Yea\")\n",
    "    if d == 0:\n",
    "        return None\n",
    "    n = sum((group['party'] == \"R\") & (group['vote_desc'] == \"Yea\"))\n",
    "    return n/d\n",
    "\n",
    "rep_votes = grouped.apply(percent_rep_support)\n",
    "rep_votes = rep_votes.to_frame().rename(columns={0:\"perc_rep\"}).sort_values(by='perc_rep', ascending=True)"
   ]
  },
  {
   "cell_type": "code",
   "execution_count": 136,
   "metadata": {},
   "outputs": [
    {
     "name": "stdout",
     "output_type": "stream",
     "text": [
      "Angie voting record:\n"
     ]
    },
    {
     "data": {
      "text/plain": [
       "vote_desc\n",
       "Yea       14529\n",
       "Nay        1635\n",
       "Absent      185\n",
       "NV           12\n",
       "Name: count, dtype: int64"
      ]
     },
     "execution_count": 136,
     "metadata": {},
     "output_type": "execute_result"
    }
   ],
   "source": [
    "angie_voting_record = voting_record_df[voting_record_df.people_id == angie_button_id]\n",
    "angie_voting_record = angie_voting_record.merge(rep_votes, how='left', left_on='roll_call_id', right_on='roll_call_id')\n",
    "print(\"Angie voting record:\")\n",
    "angie_voting_record['vote_desc'].value_counts()"
   ]
  },
  {
   "cell_type": "code",
   "execution_count": 147,
   "metadata": {},
   "outputs": [
    {
     "data": {
      "text/plain": [
       "<matplotlib.legend.Legend at 0x20037b61610>"
      ]
     },
     "execution_count": 147,
     "metadata": {},
     "output_type": "execute_result"
    },
    {
     "data": {
      "image/png": "[encoded data removed]",
      "text/plain": [
       "<Figure size 640x480 with 1 Axes>"
      ]
     },
     "metadata": {},
     "output_type": "display_data"
    }
   ],
   "source": [
    "angie_voting_record[angie_voting_record.vote_desc==\"Yea\"]['perc_rep'].plot.hist(bins=20, alpha=0.5, range=[0, 1])\n",
    "angie_voting_record[angie_voting_record.vote_desc==\"Nay\"]['perc_rep'].plot.hist(bins=20, alpha=0.5, range=[0, 1])\n",
    "plt.ylabel(\"Angie's votes vs Republican support\")\n",
    "plt.ylabel(\"Number of Angie's votes\")\n",
    "plt.xlabel(\"Percent of votes in favor from Republicans\") \n",
    "plt.legend([\"Angie Votes YES\", \"Angie Votes No\"], loc=\"upper left\")"
   ]
  },
  {
   "cell_type": "code",
   "execution_count": 151,
   "metadata": {},
   "outputs": [
    {
     "name": "stdout",
     "output_type": "stream",
     "text": [
      "Number of Angie's votes against her party:\n"
     ]
    },
    {
     "data": {
      "text/plain": [
       "998"
      ]
     },
     "execution_count": 151,
     "metadata": {},
     "output_type": "execute_result"
    }
   ],
   "source": [
    "print(\"Number of Angie's votes against her party:\")\n",
    "sum(angie_voting_record[angie_voting_record.vote_desc==\"Yea\"]['perc_rep'] > .75)"
   ]
  }
 ],
 "metadata": {
  "kernelspec": {
   "display_name": "Python 3",
   "language": "python",
   "name": "python3"
  },
  "language_info": {
   "codemirror_mode": {
    "name": "ipython",
    "version": 3
   },
   "file_extension": ".py",
   "mimetype": "text/x-python",
   "name": "python",
   "nbconvert_exporter": "python",
   "pygments_lexer": "ipython3",
   "version": "3.11.3"
  }
 },
 "nbformat": 4,
 "nbformat_minor": 2
}
